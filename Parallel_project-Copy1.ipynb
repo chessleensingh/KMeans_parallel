{
 "cells": [
  {
   "cell_type": "code",
   "execution_count": 2,
   "metadata": {},
   "outputs": [],
   "source": [
    "import pandas as pd\n",
    "import numpy as np\n",
    "from mpi4py import MPI\n",
    "import seaborn as sns\n",
    "import matplotlib.pyplot as plt\n",
    "from time import time\n",
    "import sklearn \n",
    "from sklearn.datasets import make_blobs\n",
    "import sys\n",
    "from scipy.spatial import distance"
   ]
  },
  {
   "cell_type": "code",
   "execution_count": 3,
   "metadata": {},
   "outputs": [
    {
     "name": "stdout",
     "output_type": "stream",
     "text": [
      "[0, 1, 2, 3, 4, 5, 6, 7]\n",
      "<ipyparallel.client.client.Client object at 0x136196710>\n",
      "<DirectView 0>\n"
     ]
    }
   ],
   "source": [
    "from ipyparallel import Client, error\n",
    "cluster=Client(profile=\"mpi\")\n",
    "view=cluster[:]\n",
    "view.block=True\n",
    "print(cluster.ids)\n",
    "print(cluster)\n",
    "view.activate()\n",
    "#lview  = cluster.load_balanced_view()\n",
    "#lview.block = True\n",
    "CORES = len(cluster[:])\n",
    "print(cluster[0])\n",
    "%px"
   ]
  },
  {
   "cell_type": "code",
   "execution_count": 4,
   "metadata": {},
   "outputs": [
    {
     "name": "stdout",
     "output_type": "stream",
     "text": [
      "[stdout:0] hosts: SachleensMBP.local\n",
      "[stdout:1] hosts: SachleensMBP.local\n",
      "[stdout:2] hosts: SachleensMBP.local\n",
      "[stdout:3] hosts: SachleensMBP.local\n",
      "[stdout:4] hosts: SachleensMBP.local\n",
      "[stdout:5] hosts: SachleensMBP.local\n",
      "[stdout:6] hosts: SachleensMBP.local\n",
      "[stdout:7] hosts: SachleensMBP.local\n"
     ]
    }
   ],
   "source": [
    "%px import socket\n",
    "%px print(\"hosts:\", socket.gethostname())\n"
   ]
  },
  {
   "cell_type": "code",
   "execution_count": 86,
   "metadata": {},
   "outputs": [],
   "source": [
    "\n",
    "class K_means:\n",
    "    def __init__(self, X = None, y= None, k_clusters = 8, max_iters = 300, n_iters = 10,):\n",
    "        self.centers = []\n",
    "        self.labels = []\n",
    "        X = None\n",
    "        y = None\n",
    "        self.max_iters = max_iters\n",
    "        self.n_iters = n_iters\n",
    "        self.k_clusters = k_clusters\n",
    "        self.centroids = None\n",
    "        self.labels = None\n",
    "        #self.tolerance = tolerance\n",
    "\n",
    "    def print_c( k_clusters):\n",
    "        from scipy.spatial import distance\n",
    "        import numpy as np\n",
    "        centroid_flags =  []\n",
    "        for i in x_part:\n",
    "            local_array = []\n",
    "            for j in centroids:\n",
    "                local_array.append(float(distance.euclidean(i,j)))\n",
    "            centroid_flags.append(np.argmin(local_array))\n",
    "#        return centroid_flags   \n",
    "\n",
    "\n",
    "        #making arrays which hold the elements that are true for a certain cluster\n",
    "        local_temp = list()\n",
    "        for i in range(k_clusters):\n",
    "            local_temp.append([])\n",
    "        for i in range (len(x_part)):\n",
    "            local_temp[centroid_flags[i]].append(x_part[i])\n",
    "        \n",
    "        \n",
    "        #takes the mean of the k-cluster\n",
    "        local_mean_1 = np.zeros((k_clusters,x_part.shape[1:][0]))\n",
    "        for i in range(k_clusters):\n",
    "            for j in range (x_part.shape[1:][0]):\n",
    "                 if(local_temp[i] == []):\n",
    "                    pass\n",
    "                 else:\n",
    "                    local_mean_1[i, j] = (np.array(local_temp[i])[:,j].mean())\n",
    "                        #zeta= 1\n",
    "        \n",
    "        return local_mean_1  #local_centroids, now just gather and take mean\n",
    "        \n",
    "        \n",
    "    def fit(self, X, k_clusters = 8, max_iters = 300, n_iters = 10):\n",
    "        if isinstance(X, pd.DataFrame):\n",
    "            #self.X = pd.DataFrame([X])\n",
    "            X = X.to_numpy()\n",
    "            #print(type(X))                                        #comment out\n",
    "            print(\"shape\",X.shape)                                 #comment out\n",
    "            shape_ = X.shape[1:]\n",
    "            #print(X)                                               #comment out\n",
    "            print(\"--------------------------\")\n",
    "            \n",
    "            \n",
    "         #ranomly picking k points from X   \n",
    "        #centroid_flags = np.zeros(shape_)\n",
    "        random_indices = np.random.choice(X.shape[0], size=k_clusters, replace=False)\n",
    "        centroids = X[random_indices]\n",
    "        print(\"random_centroids\", centroids)\n",
    "        print()\n",
    "        view.scatter(\"x_part\",X)\n",
    "        for i in range(max_iters):\n",
    "            view['centroids'] = centroids   #braodcast\n",
    "            ar = view.apply(K_means.print_c, k_clusters)# gathers for us\n",
    "            #new_centroids = np.zeros((k_clusters))\n",
    "            new_centroids = np.zeros((k_clusters,np.array(ar[0])[1:,].shape[1]))\n",
    "            for i in range(k_clusters): \n",
    "                for j in range (np.array(ar[0])[1:,].shape[1]):\n",
    "                    new_centroids[i,j] = np.array(ar)[:, i][:, j].mean()\n",
    "            \n",
    "            \n",
    "            #find sum of squared errors i.e. use the formula two blocks down, between the centroids and the x_parts\n",
    "            \n",
    "            #centroids = new_centroids\n",
    "            #print(new_centroids)\n",
    "        \n",
    "        self.centroids = new_centroids\n",
    "        return new_centroids\n",
    "    \n",
    "    def calculations(s_centroids):\n",
    "        from scipy.spatial import distance\n",
    "        import numpy as np\n",
    "        centroid_flags =  []\n",
    "        for i in x_part_1:\n",
    "            local_array = []\n",
    "            for j in s_centroids:\n",
    "                local_array.append(float(distance.euclidean(i,j)))\n",
    "            centroid_flags.append(np.argmin(local_array))\n",
    "        \n",
    "        labels_local = centroid_flags\n",
    "        return np.array(labels_local)   #reinstate\n",
    "        #return counter\n",
    "        \n",
    "        \n",
    "        #new_labels = view.pull(\"labels_local\").get()\n",
    "    \n",
    "    def predict(self, X):\n",
    "        import numpy as np\n",
    "        if isinstance(X, pd.DataFrame):\n",
    "            #self.X = pd.DataFrame([X])\n",
    "            X = X.to_numpy()\n",
    "            #print(type(X))                                        #comment out\n",
    "            print(\"shape\",X.shape)                                 #comment out\n",
    "            shape_ = X.shape[1:]\n",
    "            #print(X)                                               #comment out\n",
    "            print(\"--------------------------\")\n",
    "        centroids = self.centroids\n",
    "        labels = np.full((X.shape), -1)\n",
    "        view.scatter(\"x_part_1\",X)\n",
    "        view.scatter(\"labels_local\", labels)\n",
    "        view['centroids'] = self.centroids   #braodcast \n",
    "        new_labels = view.apply(K_means.calculations, self.centroids)\n",
    "        new_labels = np.array(new_labels).flatten()\n",
    "        return new_labels\n",
    "    \n",
    "    \n",
    "    \n",
    "    \n",
    "    \n",
    "    "
   ]
  },
  {
   "cell_type": "code",
   "execution_count": 312,
   "metadata": {},
   "outputs": [
    {
     "name": "stdout",
     "output_type": "stream",
     "text": [
      "shape (800, 2)\n",
      "--------------------------\n",
      "random_centroids [[ 2.9851423   3.82140594]\n",
      " [-3.46886419 -5.20144129]\n",
      " [-4.07934317  2.88577445]\n",
      " [ 3.81797761 -3.27891428]]\n",
      "\n",
      "shape (200, 2)\n",
      "--------------------------\n",
      "12.843768119812012\n"
     ]
    }
   ],
   "source": [
    "if __name__ == \"__main__\":\n",
    "        centers = [(-3,-3), (3,3), (-3,3), (3,-3)]\n",
    "        X, y = make_blobs(n_samples=1000, centers=centers, n_features=2, random_state=0)\n",
    "        X = pd.DataFrame(X)\n",
    "        shape_ = X.shape[1:]\n",
    "        from sklearn.model_selection import train_test_split\n",
    "        X_train, X_test, y_train, y_test = train_test_split(X, y, test_size=0.2, random_state=42)\n",
    "        start_time = time()\n",
    "        a = K_means()\n",
    "        x = a.fit(X_train, k_clusters = 4, max_iters = 300)\n",
    "        output = (a.predict(X_test))\n",
    "        print(time()- start_time)"
   ]
  },
  {
   "cell_type": "code",
   "execution_count": 313,
   "metadata": {},
   "outputs": [
    {
     "name": "stdout",
     "output_type": "stream",
     "text": [
      "0.54\n"
     ]
    }
   ],
   "source": [
    "count = 0\n",
    "for i in range (len(output)):\n",
    "    if (output[i] == y_test[i]):\n",
    "        count+=1\n",
    "\n",
    "print(count/len(output))"
   ]
  },
  {
   "cell_type": "code",
   "execution_count": 314,
   "metadata": {},
   "outputs": [
    {
     "data": {
      "text/plain": [
       "array([[ 2.87512327,  2.96883682],\n",
       "       [-3.03277602, -3.0869238 ],\n",
       "       [-2.9202392 ,  2.9023368 ],\n",
       "       [ 2.91611905, -2.94350628]])"
      ]
     },
     "execution_count": 314,
     "metadata": {},
     "output_type": "execute_result"
    }
   ],
   "source": [
    "x"
   ]
  },
  {
   "cell_type": "code",
   "execution_count": 315,
   "metadata": {
    "scrolled": true
   },
   "outputs": [
    {
     "data": {
      "text/plain": [
       "array([[-3, -3],\n",
       "       [ 3,  3],\n",
       "       [-3,  3],\n",
       "       [ 3, -3]])"
      ]
     },
     "execution_count": 315,
     "metadata": {},
     "output_type": "execute_result"
    }
   ],
   "source": [
    "centers = np.array(centers)\n",
    "centers"
   ]
  },
  {
   "cell_type": "code",
   "execution_count": 316,
   "metadata": {},
   "outputs": [
    {
     "data": {
      "text/plain": [
       "<matplotlib.collections.PathCollection at 0x13e7f5e50>"
      ]
     },
     "execution_count": 316,
     "metadata": {},
     "output_type": "execute_result"
    },
    {
     "data": {
      "image/png": "[encoded data removed]",
      "text/plain": [
       "<Figure size 432x288 with 1 Axes>"
      ]
     },
     "metadata": {
      "needs_background": "light"
     },
     "output_type": "display_data"
    }
   ],
   "source": [
    "plt.scatter(X_train.iloc[:,0], X_train.iloc[:, 1], alpha = 0.2, c='g')\n",
    "#plt.scatter(X_test.iloc[:,0], X_test.iloc[:, 1], c='y', alpha=0.3)\n",
    "plt.scatter(centers[:, 0], centers[:, 1], c='b' )\n",
    "plt.scatter(x[:, 0], x[:, 1], c='r' )\n",
    "#"
   ]
  },
  {
   "cell_type": "code",
   "execution_count": null,
   "metadata": {},
   "outputs": [],
   "source": []
  }
 ],
 "metadata": {
  "kernelspec": {
   "display_name": "parallel_1",
   "language": "python",
   "name": "parallel_1"
  },
  "language_info": {
   "codemirror_mode": {
    "name": "ipython",
    "version": 3
   },
   "file_extension": ".py",
   "mimetype": "text/x-python",
   "name": "python",
   "nbconvert_exporter": "python",
   "pygments_lexer": "ipython3",
   "version": "3.7.6"
  }
 },
 "nbformat": 4,
 "nbformat_minor": 4
}
